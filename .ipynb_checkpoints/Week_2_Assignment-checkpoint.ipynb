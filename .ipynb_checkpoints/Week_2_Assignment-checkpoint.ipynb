{
 "cells": [
  {
   "cell_type": "code",
   "execution_count": 4,
   "id": "62a62ec4-c3bd-4ceb-a0df-2d9eca13630f",
   "metadata": {},
   "outputs": [
    {
     "name": "stdin",
     "output_type": "stream",
     "text": [
      "Guess a number between 1 and 10:  5\n"
     ]
    },
    {
     "name": "stdout",
     "output_type": "stream",
     "text": [
      "Just right!\n"
     ]
    }
   ],
   "source": [
    "# Section 4.1. I'd never heard of the Walrus operator before. (It works differently from Godot's.)\n",
    "secret = 5\n",
    "guess = int(input(\"Guess a number between 1 and 10: \"))\n",
    "\n",
    "if guess < secret:\n",
    "    print(\"Too low!\")\n",
    "elif guess > secret:\n",
    "    print(\"Too high!\")\n",
    "else:\n",
    "    print(\"Just right!\")"
   ]
  },
  {
   "cell_type": "code",
   "execution_count": 3,
   "id": "6565db17-d91c-46d1-b847-d2089fece503",
   "metadata": {},
   "outputs": [
    {
     "name": "stdout",
     "output_type": "stream",
     "text": [
      "It's a cherry!\n"
     ]
    }
   ],
   "source": [
    "# Section 4.2\n",
    "small = True\n",
    "green = False\n",
    "\n",
    "if small:\n",
    "    if green:\n",
    "        print(\"It's a pea!\")\n",
    "    else:\n",
    "        print(\"It's a cherry!\")\n",
    "else:\n",
    "    if green:\n",
    "        print(\"It's a watermelon! Or an unripe pumpkin!\")\n",
    "    else:\n",
    "        print(\"It's a pumpkin! Or an embarrassed watermelon!\")"
   ]
  },
  {
   "cell_type": "code",
   "execution_count": null,
   "id": "3cc2440d-afaf-462d-817b-43872a66feba",
   "metadata": {},
   "outputs": [],
   "source": []
  }
 ],
 "metadata": {
  "kernelspec": {
   "display_name": "Python [conda env:base] *",
   "language": "python",
   "name": "conda-base-py"
  },
  "language_info": {
   "codemirror_mode": {
    "name": "ipython",
    "version": 3
   },
   "file_extension": ".py",
   "mimetype": "text/x-python",
   "name": "python",
   "nbconvert_exporter": "python",
   "pygments_lexer": "ipython3",
   "version": "3.13.5"
  }
 },
 "nbformat": 4,
 "nbformat_minor": 5
}
