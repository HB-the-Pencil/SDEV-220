{
 "cells": [
  {
   "cell_type": "code",
   "id": "initial_id",
   "metadata": {
    "collapsed": true,
    "ExecuteTime": {
     "end_time": "2025-09-30T23:02:12.973857Z",
     "start_time": "2025-09-30T23:02:12.969190Z"
    }
   },
   "source": [
    "# 7.4\n",
    "things = [\"mozzarella\", \"cinderella\", \"salmonella\"]"
   ],
   "outputs": [],
   "execution_count": 41
  },
  {
   "metadata": {
    "ExecuteTime": {
     "end_time": "2025-09-30T23:02:12.993775Z",
     "start_time": "2025-09-30T23:02:12.988637Z"
    }
   },
   "cell_type": "code",
   "source": [
    "# 7.5\n",
    "things[1] = things[1].capitalize()\n",
    "for thing in things:\n",
    "    print(thing)"
   ],
   "id": "14be3587d8855b6d",
   "outputs": [
    {
     "name": "stdout",
     "output_type": "stream",
     "text": [
      "mozzarella\n",
      "Cinderella\n",
      "salmonella\n"
     ]
    }
   ],
   "execution_count": 42
  },
  {
   "metadata": {
    "ExecuteTime": {
     "end_time": "2025-09-30T23:02:13.017123Z",
     "start_time": "2025-09-30T23:02:13.011883Z"
    }
   },
   "cell_type": "code",
   "source": [
    "# 7.6\n",
    "things[0] = things[0].upper()\n",
    "for thing in things:\n",
    "    print(thing)"
   ],
   "id": "6652f9a1dafcc802",
   "outputs": [
    {
     "name": "stdout",
     "output_type": "stream",
     "text": [
      "MOZZARELLA\n",
      "Cinderella\n",
      "salmonella\n"
     ]
    }
   ],
   "execution_count": 43
  },
  {
   "metadata": {
    "ExecuteTime": {
     "end_time": "2025-09-30T23:02:13.034986Z",
     "start_time": "2025-09-30T23:02:13.031046Z"
    }
   },
   "cell_type": "code",
   "source": [
    "# 7.7\n",
    "del things[2]\n",
    "for thing in things:\n",
    "    print(thing)\n",
    "\n",
    "# yay I get a Nobel Prize for curing salmonella"
   ],
   "id": "7a95fb6f51d4a2a",
   "outputs": [
    {
     "name": "stdout",
     "output_type": "stream",
     "text": [
      "MOZZARELLA\n",
      "Cinderella\n"
     ]
    }
   ],
   "execution_count": 44
  },
  {
   "metadata": {
    "ExecuteTime": {
     "end_time": "2025-09-30T23:02:13.057956Z",
     "start_time": "2025-09-30T23:02:13.051778Z"
    }
   },
   "cell_type": "code",
   "source": [
    "# 9.1\n",
    "def good():\n",
    "    return [\"Ron\", \"Hermione\", \"Harry\"]\n",
    "\n",
    "good()"
   ],
   "id": "2c1439b3df5399d2",
   "outputs": [
    {
     "data": {
      "text/plain": [
       "['Ron', 'Hermione', 'Harry']"
      ]
     },
     "execution_count": 45,
     "metadata": {},
     "output_type": "execute_result"
    }
   ],
   "execution_count": 45
  },
  {
   "metadata": {
    "ExecuteTime": {
     "end_time": "2025-09-30T23:02:13.077947Z",
     "start_time": "2025-09-30T23:02:13.071946Z"
    }
   },
   "cell_type": "code",
   "source": [
    "# 9.2\n",
    "def get_odds():\n",
    "    for i in range(1, 10, 2):\n",
    "        yield i\n",
    "\n",
    "odds = get_odds()\n",
    "\n",
    "for i in odds:\n",
    "    # I don't know that there's a way to print only the third item in the generator without turning it into a list.\n",
    "    print(i)\n",
    "\n",
    "# This works for just the third item. In the above for loop, there's no index variable to compare to only print the third.\n",
    "print(f\"\\n{list(get_odds())[2]}\")"
   ],
   "id": "f9c9774480ebd15b",
   "outputs": [
    {
     "name": "stdout",
     "output_type": "stream",
     "text": [
      "1\n",
      "3\n",
      "5\n",
      "7\n",
      "9\n",
      "\n",
      "5\n"
     ]
    }
   ],
   "execution_count": 46
  }
 ],
 "metadata": {
  "kernelspec": {
   "display_name": "Python 3",
   "language": "python",
   "name": "python3"
  },
  "language_info": {
   "codemirror_mode": {
    "name": "ipython",
    "version": 2
   },
   "file_extension": ".py",
   "mimetype": "text/x-python",
   "name": "python",
   "nbconvert_exporter": "python",
   "pygments_lexer": "ipython2",
   "version": "2.7.6"
  }
 },
 "nbformat": 4,
 "nbformat_minor": 5
}
