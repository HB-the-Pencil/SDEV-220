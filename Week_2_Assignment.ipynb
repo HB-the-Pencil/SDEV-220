{
 "cells": [
  {
   "cell_type": "code",
   "execution_count": 1,
   "id": "62a62ec4-c3bd-4ceb-a0df-2d9eca13630f",
   "metadata": {},
   "outputs": [
    {
     "name": "stdin",
     "output_type": "stream",
     "text": [
      "Guess a number between 1 and 10:  3\n"
     ]
    },
    {
     "name": "stdout",
     "output_type": "stream",
     "text": [
      "Too low!\n"
     ]
    }
   ],
   "source": [
    "# Section 4.1. I'd never heard of the Walrus operator before. (It works differently from Godot's.)\n",
    "secret = 5\n",
    "guess = int(input(\"Guess a number between 1 and 10: \"))\n",
    "\n",
    "if guess < secret:\n",
    "    print(\"Too low!\")\n",
    "elif guess > secret:\n",
    "    print(\"Too high!\")\n",
    "else:\n",
    "    print(\"Just right!\")"
   ]
  },
  {
   "cell_type": "code",
   "execution_count": 2,
   "id": "6565db17-d91c-46d1-b847-d2089fece503",
   "metadata": {},
   "outputs": [
    {
     "name": "stdout",
     "output_type": "stream",
     "text": [
      "It's a cherry!\n"
     ]
    }
   ],
   "source": [
    "# Section 4.2\n",
    "small = True\n",
    "green = False\n",
    "\n",
    "if small:\n",
    "    if green:\n",
    "        print(\"It's a pea!\")\n",
    "    else:\n",
    "        print(\"It's a cherry!\")\n",
    "else:\n",
    "    if green:\n",
    "        print(\"It's a watermelon! Or an unripe pumpkin!\")\n",
    "    else:\n",
    "        print(\"It's a pumpkin! Or an embarrassed watermelon!\")"
   ]
  },
  {
   "cell_type": "code",
   "execution_count": 3,
   "id": "3cc2440d-afaf-462d-817b-43872a66feba",
   "metadata": {},
   "outputs": [
    {
     "name": "stdout",
     "output_type": "stream",
     "text": [
      "3\n",
      "2\n",
      "1\n",
      "0\n"
     ]
    }
   ],
   "source": [
    "# Section 6.1\n",
    "lst = [3, 2, 1, 0]\n",
    "\n",
    "for i in lst:\n",
    "    print(i)"
   ]
  },
  {
   "cell_type": "code",
<<<<<<< HEAD
   "execution_count": 4,
=======
   "execution_count": 7,
>>>>>>> 0f0c20ef099a1ca6f3c8304bb310e7a970bd18e5
   "id": "41502e5d-d46d-44dd-bd18-ecfc991fef2a",
   "metadata": {},
   "outputs": [
    {
     "name": "stdout",
     "output_type": "stream",
     "text": [
      "Too low.\n",
      "Too low.\n",
      "Too low.\n",
      "Too low.\n",
      "Too low.\n",
      "Too low.\n",
      "Found it!\n"
     ]
    }
   ],
   "source": [
    "# Section 6.2\n",
    "guess_me = 7\n",
    "number = 1\n",
    "\n",
    "while True:\n",
    "    if number < guess_me:\n",
    "        print(\"Too low.\")\n",
    "    elif number > guess_me:\n",
    "        print(\"oops\")\n",
    "        break\n",
    "    else:\n",
    "        print(\"Found it!\")\n",
    "        break\n",
    "    number += 1"
   ]
  },
  {
   "cell_type": "code",
<<<<<<< HEAD
   "execution_count": 5,
=======
   "execution_count": 9,
>>>>>>> 0f0c20ef099a1ca6f3c8304bb310e7a970bd18e5
   "id": "c64e615c-86cf-4960-8d4a-1bbc8abdc62c",
   "metadata": {},
   "outputs": [
    {
     "name": "stdout",
     "output_type": "stream",
     "text": [
      "Too low.\n",
      "Too low.\n",
      "Too low.\n",
      "Too low.\n",
      "Too low.\n",
      "Found it!\n"
     ]
    }
   ],
   "source": [
    "# Section 6.3\n",
    "guess_me = 5\n",
    "\n",
    "for i in range(10):\n",
    "    if i < guess_me:\n",
    "        print(\"Too low.\")\n",
    "    elif i > guess_me:\n",
    "        print(\"oops\")\n",
    "        break\n",
    "    else:\n",
    "        print(\"Found it!\")\n",
    "        break"
   ]
  },
  {
   "cell_type": "code",
   "execution_count": null,
   "id": "23653624-60f3-4f2e-a45e-e11775b1d3fe",
   "metadata": {},
   "outputs": [],
   "source": []
  }
 ],
 "metadata": {
  "kernelspec": {
   "display_name": "Python [conda env:base] *",
   "language": "python",
   "name": "conda-base-py"
  },
  "language_info": {
   "codemirror_mode": {
    "name": "ipython",
    "version": 3
   },
   "file_extension": ".py",
   "mimetype": "text/x-python",
   "name": "python",
   "nbconvert_exporter": "python",
   "pygments_lexer": "ipython3",
   "version": "3.13.5"
  }
 },
 "nbformat": 4,
 "nbformat_minor": 5
}
